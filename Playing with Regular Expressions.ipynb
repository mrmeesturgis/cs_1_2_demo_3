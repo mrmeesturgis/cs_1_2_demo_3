{
 "cells": [
  {
   "cell_type": "code",
   "execution_count": 1,
   "id": "3785d086",
   "metadata": {},
   "outputs": [],
   "source": [
    "import re"
   ]
  },
  {
   "cell_type": "code",
   "execution_count": 2,
   "id": "fdb504ef",
   "metadata": {},
   "outputs": [],
   "source": [
    "s1 = open('sinbad.txt', 'r')\n",
    "sinbad = s1.readlines()\n",
    "s1.close()\n"
   ]
  },
  {
   "cell_type": "code",
   "execution_count": 3,
   "id": "1ca3d196",
   "metadata": {},
   "outputs": [
    {
     "name": "stdout",
     "output_type": "stream",
     "text": [
      "THE FIRST VOYAGE OF SINDBAD THE SAILOR\n",
      "\n",
      "\n",
      "\n",
      "MY father was a merchant of high rank and rich possessions. He died when I was but a child, leaving me all his wealth. When I reached manhood’s estate I used my inheritance with no thought for the morrow, living in a sumptuous manner and consorting with the richest young men of Baghdad. I continued this life for many years until, at last, when reason prevailed with me to mend my plan, I found with dismay that I had sunk to poverty. And then it was that I arose and sold what goods remained to me for three thousand pieces of silver, and girded myself, resolving to travel to other lands and rebuild my fortune by the wit of my mind and the labour of my hands.\n",
      "\n",
      "\n",
      "\n",
      "With a part of my hoard I bought merchandise for exchange in far lands, and also such things as I should require in my travels. Thus prepared I set sail with a company of merchants in a ship bound for the city of El-Basrah. For many days and nights we sailed upon the sea, visiting islands and passing thence to other islands; and everywhere we bartered, and bought and sold. At length we came to an island unlike the others. It seemed like a garden that had floated from off the sides of Paradise and established itself in the sea. And here our ship cast anchor and we landed. Then fires were lighted, and, while some cooked, others washed in the cool stream, and yet others amused themselves admiring the beauties of the place.\n",
      "\n"
     ]
    }
   ],
   "source": [
    "for line in sinbad[:5]:\n",
    "    print(line)"
   ]
  },
  {
   "cell_type": "code",
   "execution_count": 4,
   "id": "f0d75657",
   "metadata": {},
   "outputs": [],
   "source": [
    "preprocessed = []\n",
    "for line in sinbad:\n",
    "    line = re.sub('[^\\w \\.]', '', line)\n",
    "    if line: preprocessed.append(line.lower())\n"
   ]
  },
  {
   "cell_type": "code",
   "execution_count": 5,
   "id": "c82dd386",
   "metadata": {},
   "outputs": [
    {
     "name": "stdout",
     "output_type": "stream",
     "text": [
      "['the first voyage of sindbad the sailor', 'my father was a merchant of high rank and rich possessions. he died when i was but a child leaving me all his wealth. when i reached manhoods estate i used my inheritance with no thought for the morrow living in a sumptuous manner and consorting with the richest young men of baghdad. i continued this life for many years until at last when reason prevailed with me to mend my plan i found with dismay that i had sunk to poverty. and then it was that i arose and sold what goods remained to me for three thousand pieces of silver and girded myself resolving to travel to other lands and rebuild my fortune by the wit of my mind and the labour of my hands.', 'with a part of my hoard i bought merchandise for exchange in far lands and also such things as i should require in my travels. thus prepared i set sail with a company of merchants in a ship bound for the city of elbasrah. for many days and nights we sailed upon the sea visiting islands and passing thence to other islands and everywhere we bartered and bought and sold. at length we came to an island unlike the others. it seemed like a garden that had floated from off the sides of paradise and established itself in the sea. and here our ship cast anchor and we landed. then fires were lighted and while some cooked others washed in the cool stream and yet others amused themselves admiring the beauties of the place.', 'when all had eaten of the food prepared the shore became a gay scene of sport and play in which i engaged to the full. but suddenly a cry from the master of the ship put an end to our gaiety. standing at the side of the vessel he called loudly hear me and may god preserve you hasten back and leave everything save yourselves from sudden death for this that ye think is an island is not such. it is a mighty fish lying entranced in sleep on the surface of the sea since times of old and trees have grown upon it but your fires and your frolicking have awakened it and lo it moves and if it sink into the sea ye will assuredly be drowned. hasten then and save yourselves', 'at this we all with one accord left everything and fled for the ship hoping to escape with our lives. while we were making for safety the island moved with a great turmoil and sank behind us in the sea and the waves leapt against each other above it. for a time i gave myself up as lost for i was drawn down fathoms deep but by gods grace i rose again to the surface and to my hand was one of the large wooden bowls which some of the passengers had taken on shore for the purpose of washing. this i seized and established myself in it and thus combated the leaping waves steadying myself with my hands and feet. in vain i called on the master of the ship. he heard me not. he had spread his sails and pursued his way thinking that none beside those who had been taken up were left alive.', 'astride my wooden bowl i gazed longingly at the ship until it was out of sight. then i prepared for death as the night was closing around me. perchance i swooned for i remembered naught else until i found myself stranded upon a mountainous island. there were trees overhanging and i10 grasped a drooping bough and drew myself up from the fretting wave. my limbs were benumbed and on looking at my legs i saw the marks made by the nibbling teeth of fish and marvelled at my salvation from death.', 'staggering forward i flung myself high on the beach like one dead and so i remained until the dawn of the next day when the sun rising upon me woke me to a sense of such a condition as i had never known before. longlong it was before i could rise to a sitting posture and longer still before i could crawl on my hands and knees to a space of grass that was shielded from the sun. thence in time i staggered till i came to a brook of which i drank and strength returned to me. i found luscious fruits and ate of them and drank again of the clear waters of the brook. and so i continued many days roaming the island and wondering at its beauties until i was strong again as before.', 'and it chanced as i took my way to and fro in the island revelling in the sight of things that god had set there that on a day when the sea was sounding loudly on the shore i beheld something in the distance which excited my curiosity. it seemed like a wild animal of gigantic size and as i approached i feared it was some fabulous beast of the sea. but as i drew still nearer i was overcome with amazement to see a beautiful mare standing high with mane and tail floating on the breeze. she was tethered to a stake on the shore and at sight of me she screamed loudly and stamped her forefeet on the sand but ere i turned to flee i beheld a man come forth from a cave near by and he ran after me calling on me to give an account of myself and my presence in that place. thereupon i laid my story before him sparing no detail even to the wooden bowl by means of11 which and the grace of god i had come thither.', 'gladness seized him at my recital and he took my hand. saying come with me he led me into his cave and set food before me. i ate until i was satisfied and being at my ease i repeated my story more minutely and he wondered thereat. then i said thou hast the truth of my adventures upon the sea now i pray thee o my master tell me who thou art that thou dwellest hidden in a cave while thy mare is tethered on the shore. he was in no way displeased at my curiosity but answered me in plain words. i am one of the grooms of the king elmihraj he said and the others are scattered about the island. for look you friend it is the time of the new moon when the seahorse cometh up out of the sea and it is our plan to bring our best mares hither and tether them by the shore so that they may lure the seahorses into our hands.', 'while i was wondering at the manner of this cunning device a magnificent seahorse rose from the waves shaking the foam from its crest and neighing loudly. as it approached my companion drew me into the cave and placed himself at the opening with a long coil of thick cord in his hand. presently by means of this he leashed the seahorse with great dexterity and fettered him and subdued him. then with the mare and the seahorse he led me to his companions who when they had heard my story were all of one mind that i should accompany them to the city of the king. so they mounted me on one of the mares and i rode with them to the kings palace.', 'as soon as we had arrived at the palace gates they went in to the king and informed him of my strange adventures whereupon he sent for me and they led me before him. he12 greeted me very courteously and bade me tell him my story which when he had heard it filled him with amazement so that he cried by allah my son of a truth thou art favoured by fate for how else couldst thou escape so great a peril praise god for thy deliverance and he made much of me and caused me to be treated with honour and he appointed me master of the harbour and comptroller of the shipping.', 'my condition then was no longer that of a wayfarer. i rose day by day to a higher and a higher place in the kings favour and he took me into his council in all affairs of state. for a long time i served him well and he ceased not to recompense me with a liberal hand. yet my thoughts turned ever to baghdad the abode of peace but when i enquired of merchants and travellers and masters of ships in which direction it lay and how one might come at it they one and all shook their heads at the name of a strange city of which they had never heard. at last weary of the wonders of that island and the sea around itwonders the which if i had time to tell you would cause you the greatest amazementwearied too with my arduous duties but most of all with my prolonged absence from my own land i stood one day on the sea shore when a great ship drew near and a number of merchants landed from it.', 'the sailors brought forth their merchandise and when i had made an account of it i enquired of the master of the ship if that were the whole of his cargo. all o my master he replied all save some bales whose owner was drowned on our voyage hither but even these being in my charge i desire to sell on behalf of his family in baghdad. sayest thou so i cried. tell me i pray thee the name13 of the owner of these goods. and he replied his name was sindbad the sailor and he was drowned on our way hither.', 'when i heard this i regarded him more closely and recognised him. then i cried out o my master i am he and they are my goods that are in thy hold. but he neither recognised me nor believed my words whereupon i narrated to him the history of my supposed death but he shook his head and called upon allah to witness that there was neither faith nor conscience in any. look you he said. thou heardst me say the owner was dead and therefore thou desirest the goods for thyself free of price. i tell thee we saw him sink into the sea with many others. o my master i answered hear me and then judge of my veracity. with this i narrated to him many trivial things which happened before we reached the greatfish island and which could never be known to me had i not been on the ship. and then it was that he and many of the merchants regarded me with fixed looks and recognised me. by allah said they one and all we truly believed thee drowned but here we find thee alive. and they pressed upon me and congratulated me and the master of the ship gave me my goods at sight of which i was overjoyed and they all rejoiced with me.', 'mindful of the king i served i at once opened my bales and selecting the most costly articles went in to him and laid them at his feet telling him how i had regained the goods of which they were a part. and the king wondered greatly at my good fortune and graciously accepted my gifts. he also showed me great favour and honour in that he bestowed upon me gifts in return for mine.', 'then having sold my remaining goods at a profit i14 bought largely of the merchandise of the city and when the ship was about to sail i approached the king and thanked him for his great kindness to me and humbly begged his leave to depart to my own city and family. so he gave me his blessing and a great wealth of merchandise and rare commodities and bade me farewell. and soon thereafter having stowed all my goods in the hold of the ship i set sail with the others for baghdad.', 'our voyage was fortunate and with the aid of favourable winds we reached the city of elbasrah in safety. thence i repaired to baghdad and my family and my friends gave me a joyous welcome. and when i had sold my merchandise i set up a large establishment sparing no cost. and i bought land and houses and gathered round me wealthy companions in whose society i soon forgot the dangers and terrors i had suffered in other lands. such is the story of my first voyage and tomorrow by gods grace i will narrate to you the strange adventures of my second voyage.']\n"
     ]
    }
   ],
   "source": [
    "print(preprocessed)"
   ]
  },
  {
   "cell_type": "code",
   "execution_count": 6,
   "id": "4f4375fd",
   "metadata": {},
   "outputs": [
    {
     "name": "stdout",
     "output_type": "stream",
     "text": [
      "10926\n",
      "['i10', 'of11', 'he12', 'name13', 'i14']\n"
     ]
    }
   ],
   "source": [
    "# Now let's find the words that have both letters and numbers combined. This is noisy data. \n",
    "unified = ' '.join(preprocessed)\n",
    "print(len(unified))\n",
    "abominations = re.findall('[a-z]+[0-9]+', unified)\n",
    "print(abominations)"
   ]
  },
  {
   "cell_type": "code",
   "execution_count": 7,
   "id": "4e36f3b6",
   "metadata": {},
   "outputs": [
    {
     "name": "stdout",
     "output_type": "stream",
     "text": [
      "['i']\n",
      "['of']\n",
      "['he']\n",
      "['name']\n",
      "['i']\n"
     ]
    }
   ],
   "source": [
    "# Let's get rid of this noisy data.\n",
    "pp2 = []\n",
    "for line in preprocessed:\n",
    "    matches = re.findall('[a-z]+[0-9]+', line)\n",
    "    if matches: \n",
    "        clean = []\n",
    "        for word in matches:\n",
    "            clean.append(re.sub('[0-9]+', '', word))\n",
    "            print(clean)\n",
    "        line = re.sub('[a-z]+[0-9]+', clean.pop(), line)\n",
    "        pp2.append(line)\n",
    "    else: pp2.append(line)"
   ]
  },
  {
   "cell_type": "code",
   "execution_count": 8,
   "id": "89bbc2e9",
   "metadata": {},
   "outputs": [
    {
     "name": "stdout",
     "output_type": "stream",
     "text": [
      "10916\n",
      "[]\n",
      "the first voyage of sindbad the sailor my father was a merchant of high rank and rich possessions. he died when i was but a child leaving me all his wealth. when i reached manhoods estate i used my inheritance with no thought for the morrow living in a sumptuous manner and consorting with the richest young men of baghdad. i continued this life for many years until at last when reason prevailed with me to mend my plan i found with dismay that i had sunk to poverty. and then it was that i arose and sold what goods remained to me for three thousand pieces of silver and girded myself resolving to travel to other lands and rebuild my fortune by the wit of my mind and the labour of my hands. with a part of my hoard i bought merchandise for exchange in far lands and also such things as i should require in my travels. thus prepared i set sail with a company of merchants in a ship bound for the city of elbasrah. for many days and nights we sailed upon the sea visiting islands and passing thence to other islands and everywhere we bartered and bought and sold. at length we came to an island unlike the others. it seemed like a garden that had floated from off the sides of paradise and established itself in the sea. and here our ship cast anchor and we landed. then fires were lighted and while some cooked others washed in the cool stream and yet others amused themselves admiring the beauties of the place. when all had eaten of the food prepared the shore became a gay scene of sport and play in which i engaged to the full. but suddenly a cry from the master of the ship put an end to our gaiety. standing at the side of the vessel he called loudly hear me and may god preserve you hasten back and leave everything save yourselves from sudden death for this that ye think is an island is not such. it is a mighty fish lying entranced in sleep on the surface of the sea since times of old and trees have grown upon it but your fires and your frolicking have awakened it and lo it moves and if it sink into the sea ye will assuredly be drowned. hasten then and save yourselves at this we all with one accord left everything and fled for the ship hoping to escape with our lives. while we were making for safety the island moved with a great turmoil and sank behind us in the sea and the waves leapt against each other above it. for a time i gave myself up as lost for i was drawn down fathoms deep but by gods grace i rose again to the surface and to my hand was one of the large wooden bowls which some of the passengers had taken on shore for the purpose of washing. this i seized and established myself in it and thus combated the leaping waves steadying myself with my hands and feet. in vain i called on the master of the ship. he heard me not. he had spread his sails and pursued his way thinking that none beside those who had been taken up were left alive. astride my wooden bowl i gazed longingly at the ship until it was out of sight. then i prepared for death as the night was closing around me. perchance i swooned for i remembered naught else until i found myself stranded upon a mountainous island. there were trees overhanging and i grasped a drooping bough and drew myself up from the fretting wave. my limbs were benumbed and on looking at my legs i saw the marks made by the nibbling teeth of fish and marvelled at my salvation from death. staggering forward i flung myself high on the beach like one dead and so i remained until the dawn of the next day when the sun rising upon me woke me to a sense of such a condition as i had never known before. longlong it was before i could rise to a sitting posture and longer still before i could crawl on my hands and knees to a space of grass that was shielded from the sun. thence in time i staggered till i came to a brook of which i drank and strength returned to me. i found luscious fruits and ate of them and drank again of the clear waters of the brook. and so i continued many days roaming the island and wondering at its beauties until i was strong again as before. and it chanced as i took my way to and fro in the island revelling in the sight of things that god had set there that on a day when the sea was sounding loudly on the shore i beheld something in the distance which excited my curiosity. it seemed like a wild animal of gigantic size and as i approached i feared it was some fabulous beast of the sea. but as i drew still nearer i was overcome with amazement to see a beautiful mare standing high with mane and tail floating on the breeze. she was tethered to a stake on the shore and at sight of me she screamed loudly and stamped her forefeet on the sand but ere i turned to flee i beheld a man come forth from a cave near by and he ran after me calling on me to give an account of myself and my presence in that place. thereupon i laid my story before him sparing no detail even to the wooden bowl by means of which and the grace of god i had come thither. gladness seized him at my recital and he took my hand. saying come with me he led me into his cave and set food before me. i ate until i was satisfied and being at my ease i repeated my story more minutely and he wondered thereat. then i said thou hast the truth of my adventures upon the sea now i pray thee o my master tell me who thou art that thou dwellest hidden in a cave while thy mare is tethered on the shore. he was in no way displeased at my curiosity but answered me in plain words. i am one of the grooms of the king elmihraj he said and the others are scattered about the island. for look you friend it is the time of the new moon when the seahorse cometh up out of the sea and it is our plan to bring our best mares hither and tether them by the shore so that they may lure the seahorses into our hands. while i was wondering at the manner of this cunning device a magnificent seahorse rose from the waves shaking the foam from its crest and neighing loudly. as it approached my companion drew me into the cave and placed himself at the opening with a long coil of thick cord in his hand. presently by means of this he leashed the seahorse with great dexterity and fettered him and subdued him. then with the mare and the seahorse he led me to his companions who when they had heard my story were all of one mind that i should accompany them to the city of the king. so they mounted me on one of the mares and i rode with them to the kings palace. as soon as we had arrived at the palace gates they went in to the king and informed him of my strange adventures whereupon he sent for me and they led me before him. he greeted me very courteously and bade me tell him my story which when he had heard it filled him with amazement so that he cried by allah my son of a truth thou art favoured by fate for how else couldst thou escape so great a peril praise god for thy deliverance and he made much of me and caused me to be treated with honour and he appointed me master of the harbour and comptroller of the shipping. my condition then was no longer that of a wayfarer. i rose day by day to a higher and a higher place in the kings favour and he took me into his council in all affairs of state. for a long time i served him well and he ceased not to recompense me with a liberal hand. yet my thoughts turned ever to baghdad the abode of peace but when i enquired of merchants and travellers and masters of ships in which direction it lay and how one might come at it they one and all shook their heads at the name of a strange city of which they had never heard. at last weary of the wonders of that island and the sea around itwonders the which if i had time to tell you would cause you the greatest amazementwearied too with my arduous duties but most of all with my prolonged absence from my own land i stood one day on the sea shore when a great ship drew near and a number of merchants landed from it. the sailors brought forth their merchandise and when i had made an account of it i enquired of the master of the ship if that were the whole of his cargo. all o my master he replied all save some bales whose owner was drowned on our voyage hither but even these being in my charge i desire to sell on behalf of his family in baghdad. sayest thou so i cried. tell me i pray thee the name of the owner of these goods. and he replied his name was sindbad the sailor and he was drowned on our way hither. when i heard this i regarded him more closely and recognised him. then i cried out o my master i am he and they are my goods that are in thy hold. but he neither recognised me nor believed my words whereupon i narrated to him the history of my supposed death but he shook his head and called upon allah to witness that there was neither faith nor conscience in any. look you he said. thou heardst me say the owner was dead and therefore thou desirest the goods for thyself free of price. i tell thee we saw him sink into the sea with many others. o my master i answered hear me and then judge of my veracity. with this i narrated to him many trivial things which happened before we reached the greatfish island and which could never be known to me had i not been on the ship. and then it was that he and many of the merchants regarded me with fixed looks and recognised me. by allah said they one and all we truly believed thee drowned but here we find thee alive. and they pressed upon me and congratulated me and the master of the ship gave me my goods at sight of which i was overjoyed and they all rejoiced with me. mindful of the king i served i at once opened my bales and selecting the most costly articles went in to him and laid them at his feet telling him how i had regained the goods of which they were a part. and the king wondered greatly at my good fortune and graciously accepted my gifts. he also showed me great favour and honour in that he bestowed upon me gifts in return for mine. then having sold my remaining goods at a profit i bought largely of the merchandise of the city and when the ship was about to sail i approached the king and thanked him for his great kindness to me and humbly begged his leave to depart to my own city and family. so he gave me his blessing and a great wealth of merchandise and rare commodities and bade me farewell. and soon thereafter having stowed all my goods in the hold of the ship i set sail with the others for baghdad. our voyage was fortunate and with the aid of favourable winds we reached the city of elbasrah in safety. thence i repaired to baghdad and my family and my friends gave me a joyous welcome. and when i had sold my merchandise i set up a large establishment sparing no cost. and i bought land and houses and gathered round me wealthy companions in whose society i soon forgot the dangers and terrors i had suffered in other lands. such is the story of my first voyage and tomorrow by gods grace i will narrate to you the strange adventures of my second voyage.\n"
     ]
    }
   ],
   "source": [
    "unified = ' '.join(pp2)\n",
    "print(len(unified))\n",
    "abominations = re.findall('[a-z]+[0-9]+', unified)\n",
    "print(abominations)\n",
    "print(unified)"
   ]
  },
  {
   "cell_type": "code",
   "execution_count": 11,
   "id": "b21495da",
   "metadata": {},
   "outputs": [
    {
     "name": "stdout",
     "output_type": "stream",
     "text": [
      "the first voyage of sindbad the sailor my father was a merchant of high rank and rich possessions\n",
      "he died when i was but a child leaving me all his wealth\n",
      "when i reached manhoods estate i used my inheritance with no thought for the morrow living in a sumptuous manner and consorting with the richest young men of baghdad\n",
      "i continued this life for many years until at last when reason prevailed with me to mend my plan i found with dismay that i had sunk to poverty\n",
      "and then it was that i arose and sold what goods remained to me for three thousand pieces of silver and girded myself resolving to travel to other lands and rebuild my fortune by the wit of my mind and the labour of my hands\n",
      "with a part of my hoard i bought merchandise for exchange in far lands and also such things as i should require in my travels\n",
      "thus prepared i set sail with a company of merchants in a ship bound for the city of elbasrah\n",
      "for many days and nights we sailed upon the sea visiting islands and passing thence to other islands and everywhere we bartered and bought and sold\n",
      "at length we came to an island unlike the others\n",
      "it seemed like a garden that had floated from off the sides of paradise and established itself in the sea\n",
      "and here our ship cast anchor and we landed\n",
      "then fires were lighted and while some cooked others washed in the cool stream and yet others amused themselves admiring the beauties of the place\n",
      "when all had eaten of the food prepared the shore became a gay scene of sport and play in which i engaged to the full\n",
      "but suddenly a cry from the master of the ship put an end to our gaiety\n",
      "standing at the side of the vessel he called loudly hear me and may god preserve you hasten back and leave everything save yourselves from sudden death for this that ye think is an island is not such\n",
      "it is a mighty fish lying entranced in sleep on the surface of the sea since times of old and trees have grown upon it but your fires and your frolicking have awakened it and lo it moves and if it sink into the sea ye will assuredly be drowned\n",
      "hasten then and save yourselves at this we all with one accord left everything and fled for the ship hoping to escape with our lives\n",
      "while we were making for safety the island moved with a great turmoil and sank behind us in the sea and the waves leapt against each other above it\n",
      "for a time i gave myself up as lost for i was drawn down fathoms deep but by gods grace i rose again to the surface and to my hand was one of the large wooden bowls which some of the passengers had taken on shore for the purpose of washing\n",
      "this i seized and established myself in it and thus combated the leaping waves steadying myself with my hands and feet\n",
      "in vain i called on the master of the ship\n",
      "he heard me not\n",
      "he had spread his sails and pursued his way thinking that none beside those who had been taken up were left alive\n",
      "astride my wooden bowl i gazed longingly at the ship until it was out of sight\n",
      "then i prepared for death as the night was closing around me\n",
      "perchance i swooned for i remembered naught else until i found myself stranded upon a mountainous island\n",
      "there were trees overhanging and i grasped a drooping bough and drew myself up from the fretting wave\n",
      "my limbs were benumbed and on looking at my legs i saw the marks made by the nibbling teeth of fish and marvelled at my salvation from death\n",
      "staggering forward i flung myself high on the beach like one dead and so i remained until the dawn of the next day when the sun rising upon me woke me to a sense of such a condition as i had never known before\n",
      "longlong it was before i could rise to a sitting posture and longer still before i could crawl on my hands and knees to a space of grass that was shielded from the sun\n",
      "thence in time i staggered till i came to a brook of which i drank and strength returned to me\n",
      "i found luscious fruits and ate of them and drank again of the clear waters of the brook\n",
      "and so i continued many days roaming the island and wondering at its beauties until i was strong again as before\n",
      "and it chanced as i took my way to and fro in the island revelling in the sight of things that god had set there that on a day when the sea was sounding loudly on the shore i beheld something in the distance which excited my curiosity\n",
      "it seemed like a wild animal of gigantic size and as i approached i feared it was some fabulous beast of the sea\n",
      "but as i drew still nearer i was overcome with amazement to see a beautiful mare standing high with mane and tail floating on the breeze\n",
      "she was tethered to a stake on the shore and at sight of me she screamed loudly and stamped her forefeet on the sand but ere i turned to flee i beheld a man come forth from a cave near by and he ran after me calling on me to give an account of myself and my presence in that place\n",
      "thereupon i laid my story before him sparing no detail even to the wooden bowl by means of which and the grace of god i had come thither\n",
      "gladness seized him at my recital and he took my hand\n",
      "saying come with me he led me into his cave and set food before me\n",
      "i ate until i was satisfied and being at my ease i repeated my story more minutely and he wondered thereat\n",
      "then i said thou hast the truth of my adventures upon the sea now i pray thee o my master tell me who thou art that thou dwellest hidden in a cave while thy mare is tethered on the shore\n",
      "he was in no way displeased at my curiosity but answered me in plain words\n",
      "i am one of the grooms of the king elmihraj he said and the others are scattered about the island\n",
      "for look you friend it is the time of the new moon when the seahorse cometh up out of the sea and it is our plan to bring our best mares hither and tether them by the shore so that they may lure the seahorses into our hands\n",
      "while i was wondering at the manner of this cunning device a magnificent seahorse rose from the waves shaking the foam from its crest and neighing loudly\n",
      "as it approached my companion drew me into the cave and placed himself at the opening with a long coil of thick cord in his hand\n",
      "presently by means of this he leashed the seahorse with great dexterity and fettered him and subdued him\n",
      "then with the mare and the seahorse he led me to his companions who when they had heard my story were all of one mind that i should accompany them to the city of the king\n",
      "so they mounted me on one of the mares and i rode with them to the kings palace\n",
      "as soon as we had arrived at the palace gates they went in to the king and informed him of my strange adventures whereupon he sent for me and they led me before him\n",
      "he greeted me very courteously and bade me tell him my story which when he had heard it filled him with amazement so that he cried by allah my son of a truth thou art favoured by fate for how else couldst thou escape so great a peril praise god for thy deliverance and he made much of me and caused me to be treated with honour and he appointed me master of the harbour and comptroller of the shipping\n",
      "my condition then was no longer that of a wayfarer\n",
      "i rose day by day to a higher and a higher place in the kings favour and he took me into his council in all affairs of state\n",
      "for a long time i served him well and he ceased not to recompense me with a liberal hand\n",
      "yet my thoughts turned ever to baghdad the abode of peace but when i enquired of merchants and travellers and masters of ships in which direction it lay and how one might come at it they one and all shook their heads at the name of a strange city of which they had never heard\n",
      "at last weary of the wonders of that island and the sea around itwonders the which if i had time to tell you would cause you the greatest amazementwearied too with my arduous duties but most of all with my prolonged absence from my own land i stood one day on the sea shore when a great ship drew near and a number of merchants landed from it\n",
      "the sailors brought forth their merchandise and when i had made an account of it i enquired of the master of the ship if that were the whole of his cargo\n",
      "all o my master he replied all save some bales whose owner was drowned on our voyage hither but even these being in my charge i desire to sell on behalf of his family in baghdad\n",
      "sayest thou so i cried\n",
      "tell me i pray thee the name of the owner of these goods\n",
      "and he replied his name was sindbad the sailor and he was drowned on our way hither\n",
      "when i heard this i regarded him more closely and recognised him\n",
      "then i cried out o my master i am he and they are my goods that are in thy hold\n",
      "but he neither recognised me nor believed my words whereupon i narrated to him the history of my supposed death but he shook his head and called upon allah to witness that there was neither faith nor conscience in any\n",
      "look you he said\n",
      "thou heardst me say the owner was dead and therefore thou desirest the goods for thyself free of price\n",
      "i tell thee we saw him sink into the sea with many others\n",
      "o my master i answered hear me and then judge of my veracity\n",
      "with this i narrated to him many trivial things which happened before we reached the greatfish island and which could never be known to me had i not been on the ship\n",
      "and then it was that he and many of the merchants regarded me with fixed looks and recognised me\n",
      "by allah said they one and all we truly believed thee drowned but here we find thee alive\n",
      "and they pressed upon me and congratulated me and the master of the ship gave me my goods at sight of which i was overjoyed and they all rejoiced with me\n",
      "mindful of the king i served i at once opened my bales and selecting the most costly articles went in to him and laid them at his feet telling him how i had regained the goods of which they were a part\n",
      "and the king wondered greatly at my good fortune and graciously accepted my gifts\n",
      "he also showed me great favour and honour in that he bestowed upon me gifts in return for mine\n",
      "then having sold my remaining goods at a profit i bought largely of the merchandise of the city and when the ship was about to sail i approached the king and thanked him for his great kindness to me and humbly begged his leave to depart to my own city and family\n",
      "so he gave me his blessing and a great wealth of merchandise and rare commodities and bade me farewell\n",
      "and soon thereafter having stowed all my goods in the hold of the ship i set sail with the others for baghdad\n",
      "our voyage was fortunate and with the aid of favourable winds we reached the city of elbasrah in safety\n",
      "thence i repaired to baghdad and my family and my friends gave me a joyous welcome\n",
      "and when i had sold my merchandise i set up a large establishment sparing no cost\n",
      "and i bought land and houses and gathered round me wealthy companions in whose society i soon forgot the dangers and terrors i had suffered in other lands\n",
      "such is the story of my first voyage and tomorrow by gods grace i will narrate to you the strange adventures of my second voyage.\n"
     ]
    }
   ],
   "source": [
    "processed = re.split('\\. ', unified)\n",
    "for line in processed:\n",
    "    print(line)"
   ]
  },
  {
   "cell_type": "code",
   "execution_count": 12,
   "id": "97f762f3",
   "metadata": {},
   "outputs": [],
   "source": [
    "tokens = []\n",
    "for line in processed:\n",
    "    tokens.append(line.split())"
   ]
  },
  {
   "cell_type": "code",
   "execution_count": 13,
   "id": "8e99b8a9",
   "metadata": {},
   "outputs": [
    {
     "name": "stdout",
     "output_type": "stream",
     "text": [
      "[['the', 'first', 'voyage', 'of', 'sindbad', 'the', 'sailor', 'my', 'father', 'was', 'a', 'merchant', 'of', 'high', 'rank', 'and', 'rich', 'possessions'], ['he', 'died', 'when', 'i', 'was', 'but', 'a', 'child', 'leaving', 'me', 'all', 'his', 'wealth'], ['when', 'i', 'reached', 'manhoods', 'estate', 'i', 'used', 'my', 'inheritance', 'with', 'no', 'thought', 'for', 'the', 'morrow', 'living', 'in', 'a', 'sumptuous', 'manner', 'and', 'consorting', 'with', 'the', 'richest', 'young', 'men', 'of', 'baghdad'], ['i', 'continued', 'this', 'life', 'for', 'many', 'years', 'until', 'at', 'last', 'when', 'reason', 'prevailed', 'with', 'me', 'to', 'mend', 'my', 'plan', 'i', 'found', 'with', 'dismay', 'that', 'i', 'had', 'sunk', 'to', 'poverty'], ['and', 'then', 'it', 'was', 'that', 'i', 'arose', 'and', 'sold', 'what', 'goods', 'remained', 'to', 'me', 'for', 'three', 'thousand', 'pieces', 'of', 'silver', 'and', 'girded', 'myself', 'resolving', 'to', 'travel', 'to', 'other', 'lands', 'and', 'rebuild', 'my', 'fortune', 'by', 'the', 'wit', 'of', 'my', 'mind', 'and', 'the', 'labour', 'of', 'my', 'hands'], ['with', 'a', 'part', 'of', 'my', 'hoard', 'i', 'bought', 'merchandise', 'for', 'exchange', 'in', 'far', 'lands', 'and', 'also', 'such', 'things', 'as', 'i', 'should', 'require', 'in', 'my', 'travels'], ['thus', 'prepared', 'i', 'set', 'sail', 'with', 'a', 'company', 'of', 'merchants', 'in', 'a', 'ship', 'bound', 'for', 'the', 'city', 'of', 'elbasrah'], ['for', 'many', 'days', 'and', 'nights', 'we', 'sailed', 'upon', 'the', 'sea', 'visiting', 'islands', 'and', 'passing', 'thence', 'to', 'other', 'islands', 'and', 'everywhere', 'we', 'bartered', 'and', 'bought', 'and', 'sold'], ['at', 'length', 'we', 'came', 'to', 'an', 'island', 'unlike', 'the', 'others'], ['it', 'seemed', 'like', 'a', 'garden', 'that', 'had', 'floated', 'from', 'off', 'the', 'sides', 'of', 'paradise', 'and', 'established', 'itself', 'in', 'the', 'sea'], ['and', 'here', 'our', 'ship', 'cast', 'anchor', 'and', 'we', 'landed'], ['then', 'fires', 'were', 'lighted', 'and', 'while', 'some', 'cooked', 'others', 'washed', 'in', 'the', 'cool', 'stream', 'and', 'yet', 'others', 'amused', 'themselves', 'admiring', 'the', 'beauties', 'of', 'the', 'place'], ['when', 'all', 'had', 'eaten', 'of', 'the', 'food', 'prepared', 'the', 'shore', 'became', 'a', 'gay', 'scene', 'of', 'sport', 'and', 'play', 'in', 'which', 'i', 'engaged', 'to', 'the', 'full'], ['but', 'suddenly', 'a', 'cry', 'from', 'the', 'master', 'of', 'the', 'ship', 'put', 'an', 'end', 'to', 'our', 'gaiety'], ['standing', 'at', 'the', 'side', 'of', 'the', 'vessel', 'he', 'called', 'loudly', 'hear', 'me', 'and', 'may', 'god', 'preserve', 'you', 'hasten', 'back', 'and', 'leave', 'everything', 'save', 'yourselves', 'from', 'sudden', 'death', 'for', 'this', 'that', 'ye', 'think', 'is', 'an', 'island', 'is', 'not', 'such'], ['it', 'is', 'a', 'mighty', 'fish', 'lying', 'entranced', 'in', 'sleep', 'on', 'the', 'surface', 'of', 'the', 'sea', 'since', 'times', 'of', 'old', 'and', 'trees', 'have', 'grown', 'upon', 'it', 'but', 'your', 'fires', 'and', 'your', 'frolicking', 'have', 'awakened', 'it', 'and', 'lo', 'it', 'moves', 'and', 'if', 'it', 'sink', 'into', 'the', 'sea', 'ye', 'will', 'assuredly', 'be', 'drowned'], ['hasten', 'then', 'and', 'save', 'yourselves', 'at', 'this', 'we', 'all', 'with', 'one', 'accord', 'left', 'everything', 'and', 'fled', 'for', 'the', 'ship', 'hoping', 'to', 'escape', 'with', 'our', 'lives'], ['while', 'we', 'were', 'making', 'for', 'safety', 'the', 'island', 'moved', 'with', 'a', 'great', 'turmoil', 'and', 'sank', 'behind', 'us', 'in', 'the', 'sea', 'and', 'the', 'waves', 'leapt', 'against', 'each', 'other', 'above', 'it'], ['for', 'a', 'time', 'i', 'gave', 'myself', 'up', 'as', 'lost', 'for', 'i', 'was', 'drawn', 'down', 'fathoms', 'deep', 'but', 'by', 'gods', 'grace', 'i', 'rose', 'again', 'to', 'the', 'surface', 'and', 'to', 'my', 'hand', 'was', 'one', 'of', 'the', 'large', 'wooden', 'bowls', 'which', 'some', 'of', 'the', 'passengers', 'had', 'taken', 'on', 'shore', 'for', 'the', 'purpose', 'of', 'washing'], ['this', 'i', 'seized', 'and', 'established', 'myself', 'in', 'it', 'and', 'thus', 'combated', 'the', 'leaping', 'waves', 'steadying', 'myself', 'with', 'my', 'hands', 'and', 'feet'], ['in', 'vain', 'i', 'called', 'on', 'the', 'master', 'of', 'the', 'ship'], ['he', 'heard', 'me', 'not'], ['he', 'had', 'spread', 'his', 'sails', 'and', 'pursued', 'his', 'way', 'thinking', 'that', 'none', 'beside', 'those', 'who', 'had', 'been', 'taken', 'up', 'were', 'left', 'alive'], ['astride', 'my', 'wooden', 'bowl', 'i', 'gazed', 'longingly', 'at', 'the', 'ship', 'until', 'it', 'was', 'out', 'of', 'sight'], ['then', 'i', 'prepared', 'for', 'death', 'as', 'the', 'night', 'was', 'closing', 'around', 'me'], ['perchance', 'i', 'swooned', 'for', 'i', 'remembered', 'naught', 'else', 'until', 'i', 'found', 'myself', 'stranded', 'upon', 'a', 'mountainous', 'island'], ['there', 'were', 'trees', 'overhanging', 'and', 'i', 'grasped', 'a', 'drooping', 'bough', 'and', 'drew', 'myself', 'up', 'from', 'the', 'fretting', 'wave'], ['my', 'limbs', 'were', 'benumbed', 'and', 'on', 'looking', 'at', 'my', 'legs', 'i', 'saw', 'the', 'marks', 'made', 'by', 'the', 'nibbling', 'teeth', 'of', 'fish', 'and', 'marvelled', 'at', 'my', 'salvation', 'from', 'death'], ['staggering', 'forward', 'i', 'flung', 'myself', 'high', 'on', 'the', 'beach', 'like', 'one', 'dead', 'and', 'so', 'i', 'remained', 'until', 'the', 'dawn', 'of', 'the', 'next', 'day', 'when', 'the', 'sun', 'rising', 'upon', 'me', 'woke', 'me', 'to', 'a', 'sense', 'of', 'such', 'a', 'condition', 'as', 'i', 'had', 'never', 'known', 'before'], ['longlong', 'it', 'was', 'before', 'i', 'could', 'rise', 'to', 'a', 'sitting', 'posture', 'and', 'longer', 'still', 'before', 'i', 'could', 'crawl', 'on', 'my', 'hands', 'and', 'knees', 'to', 'a', 'space', 'of', 'grass', 'that', 'was', 'shielded', 'from', 'the', 'sun'], ['thence', 'in', 'time', 'i', 'staggered', 'till', 'i', 'came', 'to', 'a', 'brook', 'of', 'which', 'i', 'drank', 'and', 'strength', 'returned', 'to', 'me'], ['i', 'found', 'luscious', 'fruits', 'and', 'ate', 'of', 'them', 'and', 'drank', 'again', 'of', 'the', 'clear', 'waters', 'of', 'the', 'brook'], ['and', 'so', 'i', 'continued', 'many', 'days', 'roaming', 'the', 'island', 'and', 'wondering', 'at', 'its', 'beauties', 'until', 'i', 'was', 'strong', 'again', 'as', 'before'], ['and', 'it', 'chanced', 'as', 'i', 'took', 'my', 'way', 'to', 'and', 'fro', 'in', 'the', 'island', 'revelling', 'in', 'the', 'sight', 'of', 'things', 'that', 'god', 'had', 'set', 'there', 'that', 'on', 'a', 'day', 'when', 'the', 'sea', 'was', 'sounding', 'loudly', 'on', 'the', 'shore', 'i', 'beheld', 'something', 'in', 'the', 'distance', 'which', 'excited', 'my', 'curiosity'], ['it', 'seemed', 'like', 'a', 'wild', 'animal', 'of', 'gigantic', 'size', 'and', 'as', 'i', 'approached', 'i', 'feared', 'it', 'was', 'some', 'fabulous', 'beast', 'of', 'the', 'sea'], ['but', 'as', 'i', 'drew', 'still', 'nearer', 'i', 'was', 'overcome', 'with', 'amazement', 'to', 'see', 'a', 'beautiful', 'mare', 'standing', 'high', 'with', 'mane', 'and', 'tail', 'floating', 'on', 'the', 'breeze'], ['she', 'was', 'tethered', 'to', 'a', 'stake', 'on', 'the', 'shore', 'and', 'at', 'sight', 'of', 'me', 'she', 'screamed', 'loudly', 'and', 'stamped', 'her', 'forefeet', 'on', 'the', 'sand', 'but', 'ere', 'i', 'turned', 'to', 'flee', 'i', 'beheld', 'a', 'man', 'come', 'forth', 'from', 'a', 'cave', 'near', 'by', 'and', 'he', 'ran', 'after', 'me', 'calling', 'on', 'me', 'to', 'give', 'an', 'account', 'of', 'myself', 'and', 'my', 'presence', 'in', 'that', 'place'], ['thereupon', 'i', 'laid', 'my', 'story', 'before', 'him', 'sparing', 'no', 'detail', 'even', 'to', 'the', 'wooden', 'bowl', 'by', 'means', 'of', 'which', 'and', 'the', 'grace', 'of', 'god', 'i', 'had', 'come', 'thither'], ['gladness', 'seized', 'him', 'at', 'my', 'recital', 'and', 'he', 'took', 'my', 'hand'], ['saying', 'come', 'with', 'me', 'he', 'led', 'me', 'into', 'his', 'cave', 'and', 'set', 'food', 'before', 'me'], ['i', 'ate', 'until', 'i', 'was', 'satisfied', 'and', 'being', 'at', 'my', 'ease', 'i', 'repeated', 'my', 'story', 'more', 'minutely', 'and', 'he', 'wondered', 'thereat'], ['then', 'i', 'said', 'thou', 'hast', 'the', 'truth', 'of', 'my', 'adventures', 'upon', 'the', 'sea', 'now', 'i', 'pray', 'thee', 'o', 'my', 'master', 'tell', 'me', 'who', 'thou', 'art', 'that', 'thou', 'dwellest', 'hidden', 'in', 'a', 'cave', 'while', 'thy', 'mare', 'is', 'tethered', 'on', 'the', 'shore'], ['he', 'was', 'in', 'no', 'way', 'displeased', 'at', 'my', 'curiosity', 'but', 'answered', 'me', 'in', 'plain', 'words'], ['i', 'am', 'one', 'of', 'the', 'grooms', 'of', 'the', 'king', 'elmihraj', 'he', 'said', 'and', 'the', 'others', 'are', 'scattered', 'about', 'the', 'island'], ['for', 'look', 'you', 'friend', 'it', 'is', 'the', 'time', 'of', 'the', 'new', 'moon', 'when', 'the', 'seahorse', 'cometh', 'up', 'out', 'of', 'the', 'sea', 'and', 'it', 'is', 'our', 'plan', 'to', 'bring', 'our', 'best', 'mares', 'hither', 'and', 'tether', 'them', 'by', 'the', 'shore', 'so', 'that', 'they', 'may', 'lure', 'the', 'seahorses', 'into', 'our', 'hands'], ['while', 'i', 'was', 'wondering', 'at', 'the', 'manner', 'of', 'this', 'cunning', 'device', 'a', 'magnificent', 'seahorse', 'rose', 'from', 'the', 'waves', 'shaking', 'the', 'foam', 'from', 'its', 'crest', 'and', 'neighing', 'loudly'], ['as', 'it', 'approached', 'my', 'companion', 'drew', 'me', 'into', 'the', 'cave', 'and', 'placed', 'himself', 'at', 'the', 'opening', 'with', 'a', 'long', 'coil', 'of', 'thick', 'cord', 'in', 'his', 'hand'], ['presently', 'by', 'means', 'of', 'this', 'he', 'leashed', 'the', 'seahorse', 'with', 'great', 'dexterity', 'and', 'fettered', 'him', 'and', 'subdued', 'him'], ['then', 'with', 'the', 'mare', 'and', 'the', 'seahorse', 'he', 'led', 'me', 'to', 'his', 'companions', 'who', 'when', 'they', 'had', 'heard', 'my', 'story', 'were', 'all', 'of', 'one', 'mind', 'that', 'i', 'should', 'accompany', 'them', 'to', 'the', 'city', 'of', 'the', 'king'], ['so', 'they', 'mounted', 'me', 'on', 'one', 'of', 'the', 'mares', 'and', 'i', 'rode', 'with', 'them', 'to', 'the', 'kings', 'palace'], ['as', 'soon', 'as', 'we', 'had', 'arrived', 'at', 'the', 'palace', 'gates', 'they', 'went', 'in', 'to', 'the', 'king', 'and', 'informed', 'him', 'of', 'my', 'strange', 'adventures', 'whereupon', 'he', 'sent', 'for', 'me', 'and', 'they', 'led', 'me', 'before', 'him'], ['he', 'greeted', 'me', 'very', 'courteously', 'and', 'bade', 'me', 'tell', 'him', 'my', 'story', 'which', 'when', 'he', 'had', 'heard', 'it', 'filled', 'him', 'with', 'amazement', 'so', 'that', 'he', 'cried', 'by', 'allah', 'my', 'son', 'of', 'a', 'truth', 'thou', 'art', 'favoured', 'by', 'fate', 'for', 'how', 'else', 'couldst', 'thou', 'escape', 'so', 'great', 'a', 'peril', 'praise', 'god', 'for', 'thy', 'deliverance', 'and', 'he', 'made', 'much', 'of', 'me', 'and', 'caused', 'me', 'to', 'be', 'treated', 'with', 'honour', 'and', 'he', 'appointed', 'me', 'master', 'of', 'the', 'harbour', 'and', 'comptroller', 'of', 'the', 'shipping'], ['my', 'condition', 'then', 'was', 'no', 'longer', 'that', 'of', 'a', 'wayfarer'], ['i', 'rose', 'day', 'by', 'day', 'to', 'a', 'higher', 'and', 'a', 'higher', 'place', 'in', 'the', 'kings', 'favour', 'and', 'he', 'took', 'me', 'into', 'his', 'council', 'in', 'all', 'affairs', 'of', 'state'], ['for', 'a', 'long', 'time', 'i', 'served', 'him', 'well', 'and', 'he', 'ceased', 'not', 'to', 'recompense', 'me', 'with', 'a', 'liberal', 'hand'], ['yet', 'my', 'thoughts', 'turned', 'ever', 'to', 'baghdad', 'the', 'abode', 'of', 'peace', 'but', 'when', 'i', 'enquired', 'of', 'merchants', 'and', 'travellers', 'and', 'masters', 'of', 'ships', 'in', 'which', 'direction', 'it', 'lay', 'and', 'how', 'one', 'might', 'come', 'at', 'it', 'they', 'one', 'and', 'all', 'shook', 'their', 'heads', 'at', 'the', 'name', 'of', 'a', 'strange', 'city', 'of', 'which', 'they', 'had', 'never', 'heard'], ['at', 'last', 'weary', 'of', 'the', 'wonders', 'of', 'that', 'island', 'and', 'the', 'sea', 'around', 'itwonders', 'the', 'which', 'if', 'i', 'had', 'time', 'to', 'tell', 'you', 'would', 'cause', 'you', 'the', 'greatest', 'amazementwearied', 'too', 'with', 'my', 'arduous', 'duties', 'but', 'most', 'of', 'all', 'with', 'my', 'prolonged', 'absence', 'from', 'my', 'own', 'land', 'i', 'stood', 'one', 'day', 'on', 'the', 'sea', 'shore', 'when', 'a', 'great', 'ship', 'drew', 'near', 'and', 'a', 'number', 'of', 'merchants', 'landed', 'from', 'it'], ['the', 'sailors', 'brought', 'forth', 'their', 'merchandise', 'and', 'when', 'i', 'had', 'made', 'an', 'account', 'of', 'it', 'i', 'enquired', 'of', 'the', 'master', 'of', 'the', 'ship', 'if', 'that', 'were', 'the', 'whole', 'of', 'his', 'cargo'], ['all', 'o', 'my', 'master', 'he', 'replied', 'all', 'save', 'some', 'bales', 'whose', 'owner', 'was', 'drowned', 'on', 'our', 'voyage', 'hither', 'but', 'even', 'these', 'being', 'in', 'my', 'charge', 'i', 'desire', 'to', 'sell', 'on', 'behalf', 'of', 'his', 'family', 'in', 'baghdad'], ['sayest', 'thou', 'so', 'i', 'cried'], ['tell', 'me', 'i', 'pray', 'thee', 'the', 'name', 'of', 'the', 'owner', 'of', 'these', 'goods'], ['and', 'he', 'replied', 'his', 'name', 'was', 'sindbad', 'the', 'sailor', 'and', 'he', 'was', 'drowned', 'on', 'our', 'way', 'hither'], ['when', 'i', 'heard', 'this', 'i', 'regarded', 'him', 'more', 'closely', 'and', 'recognised', 'him'], ['then', 'i', 'cried', 'out', 'o', 'my', 'master', 'i', 'am', 'he', 'and', 'they', 'are', 'my', 'goods', 'that', 'are', 'in', 'thy', 'hold'], ['but', 'he', 'neither', 'recognised', 'me', 'nor', 'believed', 'my', 'words', 'whereupon', 'i', 'narrated', 'to', 'him', 'the', 'history', 'of', 'my', 'supposed', 'death', 'but', 'he', 'shook', 'his', 'head', 'and', 'called', 'upon', 'allah', 'to', 'witness', 'that', 'there', 'was', 'neither', 'faith', 'nor', 'conscience', 'in', 'any'], ['look', 'you', 'he', 'said'], ['thou', 'heardst', 'me', 'say', 'the', 'owner', 'was', 'dead', 'and', 'therefore', 'thou', 'desirest', 'the', 'goods', 'for', 'thyself', 'free', 'of', 'price'], ['i', 'tell', 'thee', 'we', 'saw', 'him', 'sink', 'into', 'the', 'sea', 'with', 'many', 'others'], ['o', 'my', 'master', 'i', 'answered', 'hear', 'me', 'and', 'then', 'judge', 'of', 'my', 'veracity'], ['with', 'this', 'i', 'narrated', 'to', 'him', 'many', 'trivial', 'things', 'which', 'happened', 'before', 'we', 'reached', 'the', 'greatfish', 'island', 'and', 'which', 'could', 'never', 'be', 'known', 'to', 'me', 'had', 'i', 'not', 'been', 'on', 'the', 'ship'], ['and', 'then', 'it', 'was', 'that', 'he', 'and', 'many', 'of', 'the', 'merchants', 'regarded', 'me', 'with', 'fixed', 'looks', 'and', 'recognised', 'me'], ['by', 'allah', 'said', 'they', 'one', 'and', 'all', 'we', 'truly', 'believed', 'thee', 'drowned', 'but', 'here', 'we', 'find', 'thee', 'alive'], ['and', 'they', 'pressed', 'upon', 'me', 'and', 'congratulated', 'me', 'and', 'the', 'master', 'of', 'the', 'ship', 'gave', 'me', 'my', 'goods', 'at', 'sight', 'of', 'which', 'i', 'was', 'overjoyed', 'and', 'they', 'all', 'rejoiced', 'with', 'me'], ['mindful', 'of', 'the', 'king', 'i', 'served', 'i', 'at', 'once', 'opened', 'my', 'bales', 'and', 'selecting', 'the', 'most', 'costly', 'articles', 'went', 'in', 'to', 'him', 'and', 'laid', 'them', 'at', 'his', 'feet', 'telling', 'him', 'how', 'i', 'had', 'regained', 'the', 'goods', 'of', 'which', 'they', 'were', 'a', 'part'], ['and', 'the', 'king', 'wondered', 'greatly', 'at', 'my', 'good', 'fortune', 'and', 'graciously', 'accepted', 'my', 'gifts'], ['he', 'also', 'showed', 'me', 'great', 'favour', 'and', 'honour', 'in', 'that', 'he', 'bestowed', 'upon', 'me', 'gifts', 'in', 'return', 'for', 'mine'], ['then', 'having', 'sold', 'my', 'remaining', 'goods', 'at', 'a', 'profit', 'i', 'bought', 'largely', 'of', 'the', 'merchandise', 'of', 'the', 'city', 'and', 'when', 'the', 'ship', 'was', 'about', 'to', 'sail', 'i', 'approached', 'the', 'king', 'and', 'thanked', 'him', 'for', 'his', 'great', 'kindness', 'to', 'me', 'and', 'humbly', 'begged', 'his', 'leave', 'to', 'depart', 'to', 'my', 'own', 'city', 'and', 'family'], ['so', 'he', 'gave', 'me', 'his', 'blessing', 'and', 'a', 'great', 'wealth', 'of', 'merchandise', 'and', 'rare', 'commodities', 'and', 'bade', 'me', 'farewell'], ['and', 'soon', 'thereafter', 'having', 'stowed', 'all', 'my', 'goods', 'in', 'the', 'hold', 'of', 'the', 'ship', 'i', 'set', 'sail', 'with', 'the', 'others', 'for', 'baghdad'], ['our', 'voyage', 'was', 'fortunate', 'and', 'with', 'the', 'aid', 'of', 'favourable', 'winds', 'we', 'reached', 'the', 'city', 'of', 'elbasrah', 'in', 'safety'], ['thence', 'i', 'repaired', 'to', 'baghdad', 'and', 'my', 'family', 'and', 'my', 'friends', 'gave', 'me', 'a', 'joyous', 'welcome'], ['and', 'when', 'i', 'had', 'sold', 'my', 'merchandise', 'i', 'set', 'up', 'a', 'large', 'establishment', 'sparing', 'no', 'cost'], ['and', 'i', 'bought', 'land', 'and', 'houses', 'and', 'gathered', 'round', 'me', 'wealthy', 'companions', 'in', 'whose', 'society', 'i', 'soon', 'forgot', 'the', 'dangers', 'and', 'terrors', 'i', 'had', 'suffered', 'in', 'other', 'lands'], ['such', 'is', 'the', 'story', 'of', 'my', 'first', 'voyage', 'and', 'tomorrow', 'by', 'gods', 'grace', 'i', 'will', 'narrate', 'to', 'you', 'the', 'strange', 'adventures', 'of', 'my', 'second', 'voyage.']]\n"
     ]
    }
   ],
   "source": [
    "print(tokens)"
   ]
  },
  {
   "cell_type": "code",
   "execution_count": 22,
   "id": "cc6727c1",
   "metadata": {},
   "outputs": [],
   "source": [
    "vectors = {}\n",
    "for line in tokens:\n",
    "    for word in line:\n",
    "        if word not in vectors:\n",
    "            vectors[word] = []\n",
    "        for w2 in line:\n",
    "            vectors[word].append(w2)\n",
    "\n",
    "for k, v in vectors.items():\n",
    "    while k in v:\n",
    "        v.remove(k)"
   ]
  },
  {
   "cell_type": "code",
   "execution_count": 26,
   "id": "92a72f00",
   "metadata": {},
   "outputs": [
    {
     "name": "stdout",
     "output_type": "stream",
     "text": [
      "['he', 'greeted', 'me', 'very', 'courteously', 'and', 'bade', 'me', 'tell', 'him', 'my', 'story', 'which', 'when', 'he', 'had', 'heard', 'it', 'filled', 'him', 'with', 'amazement', 'so', 'that', 'he', 'cried', 'by', 'allah', 'my', 'son', 'of', 'a', 'truth', 'thou', 'art', 'favoured', 'by', 'fate', 'for', 'how', 'else', 'couldst', 'thou', 'escape', 'so', 'great', 'a', 'praise', 'god', 'for', 'thy', 'deliverance', 'and', 'he', 'made', 'much', 'of', 'me', 'and', 'caused', 'me', 'to', 'be', 'treated', 'with', 'honour', 'and', 'he', 'appointed', 'me', 'master', 'of', 'the', 'harbour', 'and', 'comptroller', 'of', 'the', 'shipping']\n"
     ]
    }
   ],
   "source": [
    "print(vectors['peril'])"
   ]
  },
  {
   "cell_type": "code",
   "execution_count": null,
   "id": "a8a43671",
   "metadata": {},
   "outputs": [],
   "source": []
  }
 ],
 "metadata": {
  "kernelspec": {
   "display_name": "Python 3 (ipykernel)",
   "language": "python",
   "name": "python3"
  },
  "language_info": {
   "codemirror_mode": {
    "name": "ipython",
    "version": 3
   },
   "file_extension": ".py",
   "mimetype": "text/x-python",
   "name": "python",
   "nbconvert_exporter": "python",
   "pygments_lexer": "ipython3",
   "version": "3.9.7"
  }
 },
 "nbformat": 4,
 "nbformat_minor": 5
}
