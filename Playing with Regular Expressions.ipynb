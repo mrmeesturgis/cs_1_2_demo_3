{
 "cells": [
  {
   "cell_type": "code",
   "execution_count": 1,
   "id": "3785d086",
   "metadata": {},
   "outputs": [],
   "source": [
    "import re\n",
    "import random\n",
    "random.seed(10)"
   ]
  },
  {
   "cell_type": "code",
   "execution_count": 2,
   "id": "fdb504ef",
   "metadata": {},
   "outputs": [],
   "source": [
    "s1 = open('sinbad.txt', 'r')\n",
    "alltexts = s1.readlines()\n",
    "s1.close()"
   ]
  },
  {
   "cell_type": "code",
   "execution_count": 3,
   "id": "79bd9e1f",
   "metadata": {},
   "outputs": [],
   "source": [
    "s1 = open('f2.txt', 'r')\n",
    "frank = s1.readlines()\n",
    "s1.close()"
   ]
  },
  {
   "cell_type": "code",
   "execution_count": 4,
   "id": "65b630fa",
   "metadata": {},
   "outputs": [],
   "source": [
    "s1 = open('d2.txt', 'r')\n",
    "dracula = s1.readlines()\n",
    "s1.close()"
   ]
  },
  {
   "cell_type": "code",
   "execution_count": 5,
   "id": "a4e3ce64",
   "metadata": {},
   "outputs": [],
   "source": [
    "s1 = open('s2.txt', 'r')\n",
    "sinbad = s1.readlines()\n",
    "s1.close()"
   ]
  },
  {
   "cell_type": "code",
   "execution_count": 6,
   "id": "cffd46e0",
   "metadata": {},
   "outputs": [],
   "source": [
    "def textprocessor(text):\n",
    "\n",
    "    preprocessed = []\n",
    "    for line in text:\n",
    "        line = re.sub('[^\\w \\.]', '', line)\n",
    "        if line: preprocessed.append(line.lower())\n",
    "    \n",
    "    pp2 = []\n",
    "    for line in preprocessed:\n",
    "        matches = re.findall('[a-z]+[0-9]+', line)\n",
    "        if matches: \n",
    "            clean = []\n",
    "            for word in matches:\n",
    "                clean.append(re.sub('[0-9]+', '', word))\n",
    "            line = re.sub('[a-z]+[0-9]+', clean.pop(), line)\n",
    "            pp2.append(line)\n",
    "        else: pp2.append(line)\n",
    "            \n",
    "    unified = ' '.join(pp2)\n",
    "    \n",
    "    processed = re.split('\\. ', unified)\n",
    "    \n",
    "    tokens = []\n",
    "    for line in processed:\n",
    "        tokens.append(re.split(' ', line))\n",
    "        \n",
    "    \n",
    "    vectors = {}\n",
    "    for line in tokens:\n",
    "        for word in line:\n",
    "            if word not in vectors:\n",
    "                vectors[word] = []\n",
    "            for w2 in line:\n",
    "                vectors[word].append(w2)\n",
    "\n",
    "    for k, v in vectors.items():\n",
    "        while k in v:\n",
    "            v.remove(k)\n",
    "    \n",
    "    return processed, tokens, vectors"
   ]
  },
  {
   "cell_type": "code",
   "execution_count": 7,
   "id": "ecfddd84",
   "metadata": {},
   "outputs": [],
   "source": [
    "ps, pt, pv = textprocessor(sinbad)\n",
    "ds, dt, dv = textprocessor(dracula)\n",
    "fs, ft, fv = textprocessor(frank)\n",
    "asp, ast, asv = textprocessor(alltexts)\n"
   ]
  },
  {
   "cell_type": "code",
   "execution_count": 8,
   "id": "42d9b9f7",
   "metadata": {},
   "outputs": [],
   "source": [
    "reference = {}\n",
    "for line in ps:\n",
    "    reference[line] = 'Sinbad'\n",
    "for line in ds:\n",
    "    reference[line] = 'Dracula'\n",
    "for line in fs:\n",
    "    reference[line] = 'Frankenstein'"
   ]
  },
  {
   "cell_type": "code",
   "execution_count": 12,
   "id": "a8a43671",
   "metadata": {},
   "outputs": [],
   "source": [
    "random.shuffle(asp)\n",
    "ans1 = open('sentences.txt', 'w')\n",
    "for i, line in enumerate(asp[:30]):\n",
    "    ans1.write(str(i))\n",
    "    ans1.write(\": \")\n",
    "    ans1.write(line)\n",
    "    ans1.write(\"\\n\\n\")\n",
    "ans1.close()"
   ]
  },
  {
   "cell_type": "code",
   "execution_count": null,
   "id": "7a86aee1",
   "metadata": {},
   "outputs": [],
   "source": []
  }
 ],
 "metadata": {
  "kernelspec": {
   "display_name": "Python 3 (ipykernel)",
   "language": "python",
   "name": "python3"
  },
  "language_info": {
   "codemirror_mode": {
    "name": "ipython",
    "version": 3
   },
   "file_extension": ".py",
   "mimetype": "text/x-python",
   "name": "python",
   "nbconvert_exporter": "python",
   "pygments_lexer": "ipython3",
   "version": "3.9.7"
  }
 },
 "nbformat": 4,
 "nbformat_minor": 5
}
